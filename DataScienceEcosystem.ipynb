{
 "cells": [
  {
   "cell_type": "markdown",
   "id": "f7a78d3a",
   "metadata": {},
   "source": [
    "# Data Science Tools and Ecosystem"
   ]
  },
  {
   "cell_type": "markdown",
   "id": "d566b68f",
   "metadata": {},
   "source": [
    "    In this notebook, Data Science Tools and Ecosystem are summarized."
   ]
  },
  {
   "cell_type": "markdown",
   "id": "06899395",
   "metadata": {},
   "source": [
    "Some of the popular languages that Data Scientists use are:\n",
    "1. python\n",
    "2. R\n",
    "3. Julia\n",
    "4. java"
   ]
  },
  {
   "cell_type": "markdown",
   "id": "b93db5ab",
   "metadata": {},
   "source": [
    "Some of the commonly used libraries used by Data Scientists include:\n",
    "1. SciPy\n",
    "2. NumPy\n",
    "3. Pandas    \n",
    "4. TensorFlow"
   ]
  },
  {
   "cell_type": "markdown",
   "id": "20cbdbf1",
   "metadata": {},
   "source": [
    "|Data Science Tools|\n",
    "|------------------|\n",
    "|Jupyter Notebook|\n",
    "|Visual Studio|\n",
    "|R studio|"
   ]
  },
  {
   "cell_type": "markdown",
   "id": "c0e162f8",
   "metadata": {},
   "source": [
    "### Below are a few examples of evaluating arithmetic expressions in Python.  \n",
    "    "
   ]
  },
  {
   "cell_type": "code",
   "execution_count": 8,
   "id": "6d60c722",
   "metadata": {},
   "outputs": [
    {
     "data": {
      "text/plain": [
       "17"
      ]
     },
     "execution_count": 8,
     "metadata": {},
     "output_type": "execute_result"
    }
   ],
   "source": [
    "#(This a simple arithmetic expression to mutiply then add integers)\n",
    "((3*4)+5)"
   ]
  },
  {
   "cell_type": "code",
   "execution_count": 11,
   "id": "bce996e1",
   "metadata": {},
   "outputs": [
    {
     "data": {
      "text/plain": [
       "3"
      ]
     },
     "execution_count": 11,
     "metadata": {},
     "output_type": "execute_result"
    }
   ],
   "source": [
    "#This will convert 200 minutes to hours by diving by 60\n",
    "\n",
    "(200//60)\n"
   ]
  },
  {
   "cell_type": "markdown",
   "id": "efa6e41d",
   "metadata": {},
   "source": [
    "**Objectives**:\n",
    "\n",
    "  - List popular languages that Data Scientists\n",
    "  - Some of the commonly used libraries used by Data Scientists\n",
    "  - a few examples of evaluating arithmetic expressions in Python\n",
    "    "
   ]
  },
  {
   "cell_type": "markdown",
   "id": "90f6dcbc",
   "metadata": {},
   "source": [
    "## Author\n",
    "  Omar Awadh"
   ]
  },
  {
   "cell_type": "code",
   "execution_count": null,
   "id": "c4b0d651",
   "metadata": {},
   "outputs": [],
   "source": []
  }
 ],
 "metadata": {
  "kernelspec": {
   "display_name": "Python 3 (ipykernel)",
   "language": "python",
   "name": "python3"
  },
  "language_info": {
   "codemirror_mode": {
    "name": "ipython",
    "version": 3
   },
   "file_extension": ".py",
   "mimetype": "text/x-python",
   "name": "python",
   "nbconvert_exporter": "python",
   "pygments_lexer": "ipython3",
   "version": "3.10.9"
  }
 },
 "nbformat": 4,
 "nbformat_minor": 5
}
